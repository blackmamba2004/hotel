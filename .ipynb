{
 "cells": [
  {
   "cell_type": "code",
   "execution_count": null,
   "metadata": {},
   "outputs": [],
   "source": [
    "# import asyncio\n",
    "# import sys, os\n",
    "\n",
    "# sys.path.append(os.path.abspath(os.path.join(os.path.dirname(__file__), '..')))\n",
    "\n",
    "# print(sys.path)\n",
    "\n",
    "from backend.deps import get_db\n",
    "\n",
    "async def main():\n",
    "    async for db in get_db():\n",
    "        users = await ()\n",
    "        print(users)\n",
    "\n",
    "# asyncio.run(main()) \n",
    "await main()"
   ]
  },
  {
   "cell_type": "code",
   "execution_count": null,
   "metadata": {},
   "outputs": [],
   "source": [
    "from backend.crud.base import CRUDBase\n",
    "from backend.deps import get_db\n",
    "from backend.models.customer import Customer\n",
    "from backend.utils.security import get_password_hash\n",
    "\n",
    "base = CRUDBase(model=Customer)\n",
    "\n",
    "user_dict = dict(email=\"aa@aa.com\", hashed_password=get_password_hash('aaaa'))\n",
    "\n",
    "async for db in get_db():\n",
    "    client = await base.get(db, id=1)\n",
    "    # client = await base.create(db, user_dict)\n",
    "    print(client)\n",
    "    print(client.gender)\n"
   ]
  },
  {
   "cell_type": "code",
   "execution_count": null,
   "metadata": {},
   "outputs": [
    {
     "name": "stdout",
     "output_type": "stream",
     "text": [
      "2024-12-27 18:11:58,044 INFO sqlalchemy.engine.Engine select pg_catalog.version()\n",
      "2024-12-27 18:11:58,044 INFO sqlalchemy.engine.Engine [raw sql] ()\n",
      "2024-12-27 18:11:58,045 INFO sqlalchemy.engine.Engine select current_schema()\n",
      "2024-12-27 18:11:58,045 INFO sqlalchemy.engine.Engine [raw sql] ()\n",
      "2024-12-27 18:11:58,046 INFO sqlalchemy.engine.Engine show standard_conforming_strings\n",
      "2024-12-27 18:11:58,046 INFO sqlalchemy.engine.Engine [raw sql] ()\n",
      "2024-12-27 18:11:58,047 INFO sqlalchemy.engine.Engine BEGIN (implicit)\n",
      "2024-12-27 18:11:58,049 INFO sqlalchemy.engine.Engine SELECT room.id, room.hotel_id, room.number, room.description, room.price, room.image_id, booking.id AS id_1, booking.room_id, booking.user_id, booking.date_from, booking.date_to, booking.price AS price_1, booking.total_cost, booking.total_days \n",
      "FROM room JOIN booking ON room.id = booking.room_id \n",
      "WHERE booking.date_from <= $1::DATE AND booking.date_to >= $2::DATE\n",
      "2024-12-27 18:11:58,049 INFO sqlalchemy.engine.Engine [generated in 0.00030s] (datetime.date(2023, 6, 30), datetime.date(2023, 6, 15))\n",
      "[{'id': 1, 'hotel_id': 1, 'number': 101, 'description': 'Номер с видом на горы.', 'price': 24500, 'image_id': 7, 'id_1': 1, 'room_id': 1, 'user_id': 1, 'date_from': datetime.date(2023, 6, 15), 'date_to': datetime.date(2023, 6, 30), 'price_1': 24500.0, 'total_cost': 367500.0, 'total_days': 15}, {'id': 7, 'hotel_id': 4, 'number': 401, 'description': 'Стандартный номер для стандартных людей.', 'price': 4300, 'image_id': 13, 'id_1': 2, 'room_id': 7, 'user_id': 2, 'date_from': datetime.date(2023, 6, 25), 'date_to': datetime.date(2023, 7, 10), 'price_1': 4300.0, 'total_cost': 64500.0, 'total_days': 15}]\n",
      "2024-12-27 18:11:58,051 INFO sqlalchemy.engine.Engine ROLLBACK\n"
     ]
    }
   ],
   "source": [
    "from datetime import date\n",
    "\n",
    "from sqlalchemy import and_, func, insert, or_, select\n",
    "\n",
    "from backend.deps import get_db\n",
    "from backend.models import *\n",
    "\n",
    "{'date_from': date(2023, 6, 15), \n",
    "'date_to': date(2023, 6, 30)}\n",
    "\n",
    "async for db in get_db():\n",
    "    booked_rooms = (\n",
    "        select(Booking)\n",
    "        .where(\n",
    "            and_(\n",
    "                Booking.date_from <= date(2023, 6, 30),\n",
    "                Booking.date_to >= date(2023, 6, 15)\n",
    "            )\n",
    "        ).cte(\"booked_rooms\")\n",
    "    )\n",
    "\n",
    "    get_rooms_left = (\n",
    "        select(Room.__table__.columns)\n",
    "        .join(\n",
    "            booked_rooms, \n",
    "            booked_rooms.c.room_id == Room.id, \n",
    "            isouter=True\n",
    "        )\n",
    "    )\n",
    "\n",
    "    booked_rooms = await db.execute(query)\n",
    "    print(booked_rooms.mappings().all())"
   ]
  }
 ],
 "metadata": {
  "kernelspec": {
   "display_name": ".venv",
   "language": "python",
   "name": "python3"
  },
  "language_info": {
   "codemirror_mode": {
    "name": "ipython",
    "version": 3
   },
   "file_extension": ".py",
   "mimetype": "text/x-python",
   "name": "python",
   "nbconvert_exporter": "python",
   "pygments_lexer": "ipython3",
   "version": "3.12.3"
  }
 },
 "nbformat": 4,
 "nbformat_minor": 2
}
